{
  "cells": [
    {
      "cell_type": "markdown",
      "metadata": {},
      "source": [
        "# 1. 필요한 라이브러리 import"
      ]
    },
    {
      "cell_type": "code",
      "execution_count": 1,
      "metadata": {
        "id": "ZJuBlgivfFnn"
      },
      "outputs": [],
      "source": [
        "import os\n",
        "import fnmatch\n",
        "from collections import Counter\n",
        "import zipfile\n",
        "import shutil\n",
        "import numpy as np\n",
        "import pandas as pd\n",
        "import matplotlib.pyplot as plt\n",
        "from PIL import Image\n",
        "import pandas as pd\n",
        "\n",
        "import tensorflow as tf\n",
        "from tensorflow.keras.models import Model\n",
        "from tensorflow.keras.layers import Input, Dense, GlobalAveragePooling2D\n",
        "from tensorflow.keras.applications import ResNet50\n",
        "from tensorflow.keras.preprocessing.image import load_img, img_to_array\n",
        "from sklearn.model_selection import train_test_split"
      ]
    },
    {
      "cell_type": "markdown",
      "metadata": {},
      "source": [
        "# 2. 데이터 준비\n",
        "➡️ 초기 1회만 실행"
      ]
    },
    {
      "cell_type": "markdown",
      "metadata": {},
      "source": [
        "- 파일 압축 해제"
      ]
    },
    {
      "cell_type": "code",
      "execution_count": 2,
      "metadata": {},
      "outputs": [],
      "source": [
        "zip_file = zipfile.ZipFile('./resnet1.zip')\n",
        "zip_file.extractall(path=\"./data\")"
      ]
    },
    {
      "cell_type": "markdown",
      "metadata": {},
      "source": [
        "- 다른 파일의 압축 해제 및 데이터 병합"
      ]
    },
    {
      "cell_type": "code",
      "execution_count": 3,
      "metadata": {},
      "outputs": [
        {
          "name": "stdout",
          "output_type": "stream",
          "text": [
            "파일 병합이 완료되었습니다.\n"
          ]
        }
      ],
      "source": [
        "# 압축 파일과 대상 디렉토리 경로 설정\n",
        "zip_file_path = './resnet2.zip'#바꾸기\n",
        "target_folder_path = './data/resnet1'\n",
        "\n",
        "# 임시 디렉토리 생성\n",
        "temp_folder_path = './dd'\n",
        "os.makedirs(temp_folder_path, exist_ok=True)\n",
        "\n",
        "# 압축 파일 풀기\n",
        "with zipfile.ZipFile(zip_file_path, 'r') as zip_ref:\n",
        "    zip_ref.extractall(temp_folder_path)\n",
        "\n",
        "# 'Video_b3' 폴더 경로 설정\n",
        "video_folder_path = os.path.join(temp_folder_path, 'resnet2')#바꾸기\n",
        "\n",
        "# 'Video_b3' 폴더 내부의 파일들을 대상 디렉토리로 복사\n",
        "for root, _, files in os.walk(video_folder_path):\n",
        "    for file in files:\n",
        "        source_file_path = os.path.join(root, file)\n",
        "        target_file_path = os.path.join(target_folder_path, file)\n",
        "\n",
        "        # 중복되는 파일이 있을 경우 이름 변경\n",
        "        if os.path.exists(target_file_path):\n",
        "            base, extension = os.path.splitext(file)\n",
        "            counter = 1\n",
        "            new_file_name = f\"{base}_{counter}{extension}\"\n",
        "            new_target_file_path = os.path.join(target_folder_path, new_file_name)\n",
        "            while os.path.exists(new_target_file_path):\n",
        "                counter += 1\n",
        "                new_file_name = f\"{base}_{counter}{extension}\"\n",
        "                new_target_file_path = os.path.join(target_folder_path, new_file_name)\n",
        "            target_file_path = new_target_file_path\n",
        "\n",
        "        shutil.move(source_file_path, target_file_path)\n",
        "\n",
        "# 임시 디렉토리 삭제\n",
        "shutil.rmtree(temp_folder_path)\n",
        "\n",
        "print(\"파일 병합이 완료되었습니다.\")"
      ]
    },
    {
      "cell_type": "markdown",
      "metadata": {},
      "source": [
        "- 손상된 이미지 삭제"
      ]
    },
    {
      "cell_type": "code",
      "execution_count": 6,
      "metadata": {},
      "outputs": [],
      "source": [
        "folder_path = './data/resnet1'\n",
        "\n",
        "# 폴더 내의 모든 파일을 순회\n",
        "for filename in os.listdir(folder_path):\n",
        "    if filename.endswith(('.png', '.jpg', '.jpeg')):  # 이미지 파일 형식을 여기에 추가\n",
        "        try:\n",
        "            img = Image.open(os.path.join(folder_path, filename))  # 이미지 열기 시도\n",
        "            img.verify()  # 이미지가 손상되었는지 확인\n",
        "        except (IOError, SyntaxError) as e:\n",
        "            print(f'{filename} is corrupted and will be deleted.')  # 손상된 이미지 파일명 출력\n",
        "            os.remove(os.path.join(folder_path, filename))  # 손상된 이미지 삭제\n"
      ]
    },
    {
      "cell_type": "markdown",
      "metadata": {},
      "source": [
        "# 3. 데이터의 분포 확인\n",
        "- go/right/left/stop 별 이미지 데이터의 개수 확인\n",
        "    - index: 090 ➡️ go\n",
        "    - index: 135 ➡️ right\n",
        "    - index: 045 ➡️ left\n",
        "    - index: 180 ➡️ stop"
      ]
    },
    {
      "cell_type": "code",
      "execution_count": 2,
      "metadata": {},
      "outputs": [
        {
          "name": "stdout",
          "output_type": "stream",
          "text": [
            "Index: 090, Count: 3308\n",
            "Index: 135, Count: 3454\n",
            "Index: 045, Count: 3454\n"
          ]
        }
      ],
      "source": [
        "folder_path = './data/resnet1'\n",
        "\n",
        "# 이미지 파일 인덱스 집계를 위한 빈 Counter 객체 생성\n",
        "index_counter = Counter()\n",
        "\n",
        "# 삭제된 이미지를 제외한 폴더 내의 모든 파일을 순회\n",
        "for filename in os.listdir(folder_path):\n",
        "    if filename.endswith(('.png', '.jpg', '.jpeg')):  # 이미지 파일 형식을 여기에 추가\n",
        "        index = filename[12:15]  # 파일명에서 인덱스 추출\n",
        "            \n",
        "        index_counter[index] += 1  # 추출된 인덱스에 대한 카운트 증가\n",
        "\n",
        "# 인덱스별 이미지 개수 출력\n",
        "for index, count in index_counter.items():\n",
        "    print(f'Index: {index}, Count: {count}')"
      ]
    },
    {
      "cell_type": "markdown",
      "metadata": {},
      "source": [
        "# 4. 데이터를 변수에 저장"
      ]
    },
    {
      "cell_type": "code",
      "execution_count": 3,
      "metadata": {
        "colab": {
          "base_uri": "https://localhost:8080/",
          "height": 561
        },
        "id": "XYJpBTbEnWnZ",
        "outputId": "228b6bd1-11eb-40c1-c1fa-7b7db0e588ce"
      },
      "outputs": [
        {
          "name": "stdout",
          "output_type": "stream",
          "text": [
            "image_path: ./data/resnet1\\train_00006_090_2.png\n",
            "steering_Angle: 90\n"
          ]
        },
        {
          "data": {
            "image/png": "[encoded data removed]",
            "text/plain": [
              "<Figure size 640x480 with 1 Axes>"
            ]
          },
          "metadata": {},
          "output_type": "display_data"
        }
      ],
      "source": [
        "data_dir = './data/resnet1'\n",
        "file_list = os.listdir(data_dir)\n",
        "image_paths = [] # 이미지 경로를 저장하는 변수\n",
        "steering_angles = [] # 이미지 각도를 저장하는 변수\n",
        "pattern = \"*.png\" # .png 확장자 가진 파일만 취급\n",
        "\n",
        "for filename in file_list:\n",
        "    if fnmatch.fnmatch(filename, pattern):\n",
        "        file_path = os.path.join(data_dir, filename)\n",
        "        try:\n",
        "            # 이미지 파일을 열어보려고 시도\n",
        "            with Image.open(file_path) as img:\n",
        "                # 파일이 성공적으로 열렸다면 리스트에 추가\n",
        "                image_paths.append(file_path)\n",
        "                angle = int(filename[12:15]) # 각도는 사진 데이터에서 12~14번째만 분리\n",
        "                steering_angles.append(angle)\n",
        "        except:\n",
        "            # 파일 열기에 실패한 경우, 예외가 발생하고 해당 파일은 무시\n",
        "            print(f\"Failed to open {file_path}\")\n",
        "\n",
        "# 각도가 0인 이미지를 제거\n",
        "image_paths = [path for path, angle in zip(image_paths, steering_angles) if angle != 0]\n",
        "steering_angles = [angle for angle in steering_angles if angle != 0]\n",
        "\n",
        "# 이후 과정은 동일하게 진행\n",
        "image_index = 20\n",
        "plt.imshow(Image.open(image_paths[image_index]))\n",
        "print(\"image_path: %s\" % image_paths[image_index])\n",
        "print(\"steering_Angle: %d\" % steering_angles[image_index])\n",
        "\n",
        "df = pd.DataFrame()\n",
        "df['ImagePath'] = image_paths\n",
        "df['Angle'] = steering_angles"
      ]
    },
    {
      "cell_type": "markdown",
      "metadata": {},
      "source": [
        "# 5. 이미지 전처리 함수 생성"
      ]
    },
    {
      "cell_type": "code",
      "execution_count": 4,
      "metadata": {},
      "outputs": [],
      "source": [
        "def preprocess_image(img_path):\n",
        "    img = load_img(img_path, target_size=(70, 220))\n",
        "    img = img_to_array(img)\n",
        "    img = img / 255.0  # 정규화하여 [0, 1] 범위로 변환\n",
        "    return img"
      ]
    },
    {
      "cell_type": "markdown",
      "metadata": {},
      "source": [
        "# 6. 학습 / 검증 데이터 분리"
      ]
    },
    {
      "cell_type": "code",
      "execution_count": 5,
      "metadata": {},
      "outputs": [],
      "source": [
        "images = np.array([preprocess_image(path) for path in df['ImagePath']])\n",
        "angles = np.array(df['Angle'])\n",
        "\n",
        "X_train, X_val, y_train, y_val = train_test_split(images, angles, test_size=0.2, random_state=42)"
      ]
    },
    {
      "cell_type": "markdown",
      "metadata": {},
      "source": [
        "# 7. MobileNet 모델 선언"
      ]
    },
    {
      "cell_type": "code",
      "execution_count": 7,
      "metadata": {
        "colab": {
          "base_uri": "https://localhost:8080/",
          "height": 524
        },
        "id": "pNw019nQgJSP",
        "outputId": "4375c33b-ce30-449a-90d4-60c46836cfaa"
      },
      "outputs": [
        {
          "name": "stderr",
          "output_type": "stream",
          "text": [
            "C:\\Users\\dkgus\\AppData\\Local\\Temp\\ipykernel_4380\\3078620642.py:4: UserWarning: `input_shape` is undefined or non-square, or `rows` is not in [128, 160, 192, 224]. Weights for input shape (224, 224) will be loaded as the default.\n",
            "  base_model = MobileNet(weights='imagenet', include_top=False, input_shape=(70, 220, 3))\n"
          ]
        },
        {
          "name": "stdout",
          "output_type": "stream",
          "text": [
            "Downloading data from https://storage.googleapis.com/tensorflow/keras-applications/mobilenet/mobilenet_1_0_224_tf_no_top.h5\n",
            "\u001b[1m17225924/17225924\u001b[0m \u001b[32m━━━━━━━━━━━━━━━━━━━━\u001b[0m\u001b[37m\u001b[0m \u001b[1m5s\u001b[0m 0us/step\n"
          ]
        }
      ],
      "source": [
        "from tensorflow.keras.applications import MobileNet\n",
        "\n",
        "# MobileNet 모델 선언 및 수정\n",
        "base_model = MobileNet(weights='imagenet', include_top=False, input_shape=(70, 220, 3))\n",
        "x = base_model.output\n",
        "x = GlobalAveragePooling2D()(x)\n",
        "x = Dense(1024, activation='relu')(x)\n",
        "predictions = Dense(1)(x)\n",
        "model = Model(inputs=base_model.input, outputs=predictions)"
      ]
    },
    {
      "cell_type": "markdown",
      "metadata": {},
      "source": [
        "# 8. 학습 및 손실 계산\n",
        "- 최대 epoch를 30으로 설정, 일정 횟수동안 손실이 일정하다면 조기종료 되도록"
      ]
    },
    {
      "cell_type": "code",
      "execution_count": 8,
      "metadata": {},
      "outputs": [
        {
          "name": "stdout",
          "output_type": "stream",
          "text": [
            "Epoch 1/30\n",
            "\u001b[1m256/256\u001b[0m \u001b[32m━━━━━━━━━━━━━━━━━━━━\u001b[0m\u001b[37m\u001b[0m \u001b[1m103s\u001b[0m 352ms/step - loss: 780.7336 - val_loss: 836.3284\n",
            "Epoch 2/30\n",
            "\u001b[1m256/256\u001b[0m \u001b[32m━━━━━━━━━━━━━━━━━━━━\u001b[0m\u001b[37m\u001b[0m \u001b[1m123s\u001b[0m 481ms/step - loss: 140.6572 - val_loss: 356.8580\n",
            "Epoch 3/30\n",
            "\u001b[1m256/256\u001b[0m \u001b[32m━━━━━━━━━━━━━━━━━━━━\u001b[0m\u001b[37m\u001b[0m \u001b[1m131s\u001b[0m 512ms/step - loss: 123.7374 - val_loss: 169.4687\n",
            "Epoch 4/30\n",
            "\u001b[1m256/256\u001b[0m \u001b[32m━━━━━━━━━━━━━━━━━━━━\u001b[0m\u001b[37m\u001b[0m \u001b[1m111s\u001b[0m 433ms/step - loss: 97.2472 - val_loss: 154.8854\n",
            "Epoch 5/30\n",
            "\u001b[1m256/256\u001b[0m \u001b[32m━━━━━━━━━━━━━━━━━━━━\u001b[0m\u001b[37m\u001b[0m \u001b[1m133s\u001b[0m 521ms/step - loss: 89.9483 - val_loss: 119.6921\n",
            "Epoch 6/30\n",
            "\u001b[1m256/256\u001b[0m \u001b[32m━━━━━━━━━━━━━━━━━━━━\u001b[0m\u001b[37m\u001b[0m \u001b[1m145s\u001b[0m 564ms/step - loss: 99.1036 - val_loss: 103.7017\n",
            "Epoch 7/30\n",
            "\u001b[1m256/256\u001b[0m \u001b[32m━━━━━━━━━━━━━━━━━━━━\u001b[0m\u001b[37m\u001b[0m \u001b[1m121s\u001b[0m 471ms/step - loss: 64.9096 - val_loss: 98.9598\n",
            "Epoch 8/30\n",
            "\u001b[1m256/256\u001b[0m \u001b[32m━━━━━━━━━━━━━━━━━━━━\u001b[0m\u001b[37m\u001b[0m \u001b[1m160s\u001b[0m 625ms/step - loss: 59.4851 - val_loss: 75.7340\n",
            "Epoch 9/30\n",
            "\u001b[1m256/256\u001b[0m \u001b[32m━━━━━━━━━━━━━━━━━━━━\u001b[0m\u001b[37m\u001b[0m \u001b[1m111s\u001b[0m 431ms/step - loss: 56.8739 - val_loss: 68.4255\n",
            "Epoch 10/30\n",
            "\u001b[1m256/256\u001b[0m \u001b[32m━━━━━━━━━━━━━━━━━━━━\u001b[0m\u001b[37m\u001b[0m \u001b[1m150s\u001b[0m 586ms/step - loss: 56.8131 - val_loss: 213.0260\n",
            "Epoch 11/30\n",
            "\u001b[1m256/256\u001b[0m \u001b[32m━━━━━━━━━━━━━━━━━━━━\u001b[0m\u001b[37m\u001b[0m \u001b[1m161s\u001b[0m 629ms/step - loss: 43.3713 - val_loss: 54.9215\n",
            "Epoch 12/30\n",
            "\u001b[1m256/256\u001b[0m \u001b[32m━━━━━━━━━━━━━━━━━━━━\u001b[0m\u001b[37m\u001b[0m \u001b[1m113s\u001b[0m 440ms/step - loss: 38.0946 - val_loss: 50.7997\n",
            "Epoch 13/30\n",
            "\u001b[1m256/256\u001b[0m \u001b[32m━━━━━━━━━━━━━━━━━━━━\u001b[0m\u001b[37m\u001b[0m \u001b[1m140s\u001b[0m 432ms/step - loss: 36.8304 - val_loss: 125.1038\n",
            "Epoch 14/30\n",
            "\u001b[1m256/256\u001b[0m \u001b[32m━━━━━━━━━━━━━━━━━━━━\u001b[0m\u001b[37m\u001b[0m \u001b[1m149s\u001b[0m 583ms/step - loss: 41.1681 - val_loss: 86.8110\n",
            "Epoch 15/30\n",
            "\u001b[1m256/256\u001b[0m \u001b[32m━━━━━━━━━━━━━━━━━━━━\u001b[0m\u001b[37m\u001b[0m \u001b[1m152s\u001b[0m 592ms/step - loss: 36.4971 - val_loss: 153.7167\n",
            "Epoch 16/30\n",
            "\u001b[1m256/256\u001b[0m \u001b[32m━━━━━━━━━━━━━━━━━━━━\u001b[0m\u001b[37m\u001b[0m \u001b[1m150s\u001b[0m 587ms/step - loss: 35.9809 - val_loss: 62.8452\n",
            "Epoch 17/30\n",
            "\u001b[1m256/256\u001b[0m \u001b[32m━━━━━━━━━━━━━━━━━━━━\u001b[0m\u001b[37m\u001b[0m \u001b[1m126s\u001b[0m 491ms/step - loss: 43.5489 - val_loss: 54.2747\n",
            "Epoch 18/30\n",
            "\u001b[1m256/256\u001b[0m \u001b[32m━━━━━━━━━━━━━━━━━━━━\u001b[0m\u001b[37m\u001b[0m \u001b[1m144s\u001b[0m 564ms/step - loss: 30.6940 - val_loss: 51.2802\n",
            "Epoch 19/30\n",
            "\u001b[1m256/256\u001b[0m \u001b[32m━━━━━━━━━━━━━━━━━━━━\u001b[0m\u001b[37m\u001b[0m \u001b[1m132s\u001b[0m 515ms/step - loss: 22.3477 - val_loss: 90.6690\n",
            "Epoch 20/30\n",
            "\u001b[1m256/256\u001b[0m \u001b[32m━━━━━━━━━━━━━━━━━━━━\u001b[0m\u001b[37m\u001b[0m \u001b[1m87s\u001b[0m 341ms/step - loss: 30.1443 - val_loss: 74.5100\n",
            "Epoch 21/30\n",
            "\u001b[1m256/256\u001b[0m \u001b[32m━━━━━━━━━━━━━━━━━━━━\u001b[0m\u001b[37m\u001b[0m \u001b[1m152s\u001b[0m 380ms/step - loss: 27.5991 - val_loss: 152.4672\n",
            "Epoch 22/30\n",
            "\u001b[1m256/256\u001b[0m \u001b[32m━━━━━━━━━━━━━━━━━━━━\u001b[0m\u001b[37m\u001b[0m \u001b[1m143s\u001b[0m 560ms/step - loss: 22.7720 - val_loss: 118.7803\n",
            "\u001b[1m64/64\u001b[0m \u001b[32m━━━━━━━━━━━━━━━━━━━━\u001b[0m\u001b[37m\u001b[0m \u001b[1m8s\u001b[0m 123ms/step - loss: 58.0534\n"
          ]
        },
        {
          "name": "stderr",
          "output_type": "stream",
          "text": [
            "WARNING:absl:You are saving your model as an HDF5 file via `model.save()` or `keras.saving.save_model(model)`. This file format is considered legacy. We recommend using instead the native Keras format, e.g. `model.save('my_model.keras')` or `keras.saving.save_model(model, 'my_model.keras')`. \n"
          ]
        },
        {
          "name": "stdout",
          "output_type": "stream",
          "text": [
            "Validation Loss: 50.799739837646484\n"
          ]
        }
      ],
      "source": [
        "from tensorflow.keras.callbacks import EarlyStopping\n",
        "\n",
        "# 조기 종료 콜백 설정\n",
        "early_stopping = EarlyStopping(monitor='val_loss', patience=10, restore_best_weights=True)\n",
        "\n",
        "# 모델 컴파일\n",
        "model.compile(optimizer='adam', loss='mean_squared_error')\n",
        "\n",
        "# 모델 훈련\n",
        "history = model.fit(\n",
        "    X_train, y_train, \n",
        "    epochs=30, \n",
        "    validation_data=(X_val, y_val),\n",
        "    callbacks=[early_stopping],\n",
        "    batch_size=32\n",
        ")\n",
        "\n",
        "# 모델 평가\n",
        "loss = model.evaluate(X_val, y_val)\n",
        "print(f\"Validation Loss: {loss}\")\n",
        "\n",
        "# 모델 저장\n",
        "model.save('./mobileNet_model.h5')"
      ]
    },
    {
      "cell_type": "markdown",
      "metadata": {},
      "source": [
        "# 9. 손실 시각화"
      ]
    },
    {
      "cell_type": "code",
      "execution_count": 9,
      "metadata": {
        "id": "xd_K9zlOgVVj"
      },
      "outputs": [
        {
          "data": {
            "image/png": "[encoded data removed]",
            "text/plain": [
              "<Figure size 640x480 with 1 Axes>"
            ]
          },
          "metadata": {},
          "output_type": "display_data"
        }
      ],
      "source": [
        "plt.plot(history.history['loss'], label='Training Loss')\n",
        "plt.plot(history.history['val_loss'], label='Validation Loss')\n",
        "plt.legend()\n",
        "plt.show()"
      ]
    },
    {
      "cell_type": "markdown",
      "metadata": {},
      "source": [
        "# 10. 데이터 예측 시각화"
      ]
    },
    {
      "cell_type": "code",
      "execution_count": 10,
      "metadata": {},
      "outputs": [
        {
          "name": "stderr",
          "output_type": "stream",
          "text": [
            "WARNING:absl:Compiled the loaded model, but the compiled metrics have yet to be built. `model.compile_metrics` will be empty until you train or evaluate the model.\n"
          ]
        },
        {
          "name": "stdout",
          "output_type": "stream",
          "text": [
            "\u001b[1m1/1\u001b[0m \u001b[32m━━━━━━━━━━━━━━━━━━━━\u001b[0m\u001b[37m\u001b[0m \u001b[1m1s\u001b[0m 682ms/step\n"
          ]
        },
        {
          "data": {
            "image/png": "[encoded data removed]",
            "text/plain": [
              "<Figure size 640x480 with 1 Axes>"
            ]
          },
          "metadata": {},
          "output_type": "display_data"
        },
        {
          "data": {
            "image/png": "[encoded data removed]",
            "text/plain": [
              "<Figure size 640x480 with 1 Axes>"
            ]
          },
          "metadata": {},
          "output_type": "display_data"
        },
        {
          "data": {
            "image/png": "[encoded data removed]",
            "text/plain": [
              "<Figure size 640x480 with 1 Axes>"
            ]
          },
          "metadata": {},
          "output_type": "display_data"
        },
        {
          "data": {
            "image/png": "[encoded data removed]",
            "text/plain": [
              "<Figure size 640x480 with 1 Axes>"
            ]
          },
          "metadata": {},
          "output_type": "display_data"
        }
      ],
      "source": [
        "# 모델 로드\n",
        "model = tf.keras.models.load_model('./mobileNet_model.h5')\n",
        "\n",
        "# 예시 이미지 4개에 대한 실제 값과 예측값 보여주기\n",
        "example_indices = np.random.choice(len(df), 4, replace=False)\n",
        "example_images = [preprocess_image(df['ImagePath'].iloc[idx]) for idx in example_indices]\n",
        "example_images_array = np.array(example_images)\n",
        "example_angles = df['Angle'].iloc[example_indices].values\n",
        "\n",
        "# 예측 수행\n",
        "predicted_angles = model.predict(example_images_array)\n",
        "\n",
        "# 실제 값과 예측값 출력\n",
        "for i in range(4):\n",
        "    plt.figure()\n",
        "    plt.imshow(load_img(df['ImagePath'].iloc[example_indices[i]], target_size=(70, 220)))\n",
        "    plt.title(f\"Actual: {example_angles[i]}, Predicted: {predicted_angles[i][0]:.2f}\")\n",
        "    plt.axis('off')\n",
        "    plt.show()"
      ]
    }
  ],
  "metadata": {
    "colab": {
      "provenance": []
    },
    "kernelspec": {
      "display_name": "Python 3",
      "name": "python3"
    },
    "language_info": {
      "codemirror_mode": {
        "name": "ipython",
        "version": 3
      },
      "file_extension": ".py",
      "mimetype": "text/x-python",
      "name": "python",
      "nbconvert_exporter": "python",
      "pygments_lexer": "ipython3",
      "version": "3.11.0"
    }
  },
  "nbformat": 4,
  "nbformat_minor": 0
}
