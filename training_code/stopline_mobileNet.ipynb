{
 "cells": [
  {
   "cell_type": "markdown",
   "metadata": {},
   "source": [
    "# 1. 필요한 라이브러리 import"
   ]
  },
  {
   "cell_type": "code",
   "execution_count": 1,
   "metadata": {},
   "outputs": [],
   "source": [
    "import os\n",
    "import fnmatch\n",
    "from collections import Counter\n",
    "import zipfile\n",
    "import shutil\n",
    "import numpy as np\n",
    "import pandas as pd\n",
    "import matplotlib.pyplot as plt\n",
    "from PIL import Image"
   ]
  },
  {
   "cell_type": "markdown",
   "metadata": {},
   "source": [
    "# 2. 데이터 준비\n",
    "➡️ 초기 1회만 실행"
   ]
  },
  {
   "cell_type": "markdown",
   "metadata": {},
   "source": [
    "- 파일 압축 해제"
   ]
  },
  {
   "cell_type": "code",
   "execution_count": 3,
   "metadata": {},
   "outputs": [],
   "source": [
    "zip_file = zipfile.ZipFile('./VideoS4.zip')\n",
    "zip_file.extractall(path=\"./data\")"
   ]
  },
  {
   "cell_type": "markdown",
   "metadata": {},
   "source": [
    "- 다른 파일의 압축 해제 및 데이터 병합"
   ]
  },
  {
   "cell_type": "code",
   "execution_count": 7,
   "metadata": {},
   "outputs": [
    {
     "name": "stdout",
     "output_type": "stream",
     "text": [
      "파일 병합이 완료되었습니다.\n"
     ]
    }
   ],
   "source": [
    "# 압축 파일과 대상 디렉토리 경로 설정\n",
    "zip_file_path = './resnet2.zip'#바꾸기\n",
    "target_folder_path = './data/VideoS3'\n",
    "\n",
    "# 임시 디렉토리 생성\n",
    "temp_folder_path = './dd'\n",
    "os.makedirs(temp_folder_path, exist_ok=True)\n",
    "\n",
    "# 압축 파일 풀기\n",
    "with zipfile.ZipFile(zip_file_path, 'r') as zip_ref:\n",
    "    zip_ref.extractall(temp_folder_path)\n",
    "\n",
    "# 'Video_b3' 폴더 경로 설정\n",
    "video_folder_path = os.path.join(temp_folder_path, 'resnet2')#바꾸기\n",
    "\n",
    "# 'Video_b3' 폴더 내부의 파일들을 대상 디렉토리로 복사\n",
    "for root, _, files in os.walk(video_folder_path):\n",
    "    for file in files:\n",
    "        source_file_path = os.path.join(root, file)\n",
    "        target_file_path = os.path.join(target_folder_path, file)\n",
    "\n",
    "        # 중복되는 파일이 있을 경우 이름 변경\n",
    "        if os.path.exists(target_file_path):\n",
    "            base, extension = os.path.splitext(file)\n",
    "            counter = 1\n",
    "            new_file_name = f\"{base}_{counter}{extension}\"\n",
    "            new_target_file_path = os.path.join(target_folder_path, new_file_name)\n",
    "            while os.path.exists(new_target_file_path):\n",
    "                counter += 1\n",
    "                new_file_name = f\"{base}_{counter}{extension}\"\n",
    "                new_target_file_path = os.path.join(target_folder_path, new_file_name)\n",
    "            target_file_path = new_target_file_path\n",
    "\n",
    "        shutil.move(source_file_path, target_file_path)\n",
    "\n",
    "# 임시 디렉토리 삭제\n",
    "shutil.rmtree(temp_folder_path)\n",
    "\n",
    "print(\"파일 병합이 완료되었습니다.\")"
   ]
  },
  {
   "cell_type": "markdown",
   "metadata": {},
   "source": [
    "- 손상된 이미지 삭제"
   ]
  },
  {
   "cell_type": "code",
   "execution_count": 6,
   "metadata": {},
   "outputs": [],
   "source": [
    "folder_path = './data/VideoS3'\n",
    "\n",
    "# 폴더 내의 모든 파일을 순회\n",
    "for filename in os.listdir(folder_path):\n",
    "    if filename.endswith(('.png', '.jpg', '.jpeg')):  # 이미지 파일 형식을 여기에 추가\n",
    "        try:\n",
    "            img = Image.open(os.path.join(folder_path, filename))  # 이미지 열기 시도\n",
    "            img.verify()  # 이미지가 손상되었는지 확인\n",
    "        except (IOError, SyntaxError) as e:\n",
    "            print(f'{filename} is corrupted and will be deleted.')  # 손상된 이미지 파일명 출력\n",
    "            os.remove(os.path.join(folder_path, filename))  # 손상된 이미지 삭제\n"
   ]
  },
  {
   "cell_type": "markdown",
   "metadata": {},
   "source": [
    "# 3. 데이터의 분포 확인\n",
    "- go/right/left/stop 별 이미지 데이터의 개수 확인\n",
    "    - index: 090 ➡️ go\n",
    "    - index: 135 ➡️ right\n",
    "    - index: 045 ➡️ left\n",
    "    - index: 180 ➡️ stop"
   ]
  },
  {
   "cell_type": "code",
   "execution_count": 13,
   "metadata": {},
   "outputs": [
    {
     "name": "stdout",
     "output_type": "stream",
     "text": [
      "Index: 090, Count: 428\n",
      "Index: 135, Count: 368\n",
      "Index: 180, Count: 1969\n",
      "Index: 045, Count: 807\n"
     ]
    }
   ],
   "source": [
    "folder_path = './data/VideoS3'\n",
    "\n",
    "# 이미지 파일 인덱스 집계를 위한 빈 Counter 객체 생성\n",
    "index_counter = Counter()\n",
    "\n",
    "# 삭제된 이미지를 제외한 폴더 내의 모든 파일을 순회\n",
    "for filename in os.listdir(folder_path):\n",
    "    if filename.endswith(('.png', '.jpg', '.jpeg')):  # 이미지 파일 형식을 여기에 추가\n",
    "        index = filename[12:15]  # 파일명에서 인덱스 추출\n",
    "            \n",
    "        index_counter[index] += 1  # 추출된 인덱스에 대한 카운트 증가\n",
    "\n",
    "# 인덱스별 이미지 개수 출력\n",
    "for index, count in index_counter.items():\n",
    "    print(f'Index: {index}, Count: {count}')"
   ]
  },
  {
   "cell_type": "markdown",
   "metadata": {},
   "source": [
    "# 4. 데이터를 변수에 저장\n",
    "- stop데이터 ➡️ stopline = 1으로 라벨링\n",
    "- go/right/left데이터 ➡️ stopline = 0으로 라벨링"
   ]
  },
  {
   "cell_type": "code",
   "execution_count": 16,
   "metadata": {},
   "outputs": [
    {
     "name": "stdout",
     "output_type": "stream",
     "text": [
      "image_path: ./data/VideoS3\\train_00044_135.png\n",
      "steering_Angle: 0\n"
     ]
    },
    {
     "data": {
      "image/png": "[encoded data removed]",
      "text/plain": [
       "<Figure size 640x480 with 1 Axes>"
      ]
     },
     "metadata": {},
     "output_type": "display_data"
    }
   ],
   "source": [
    "data_dir = './data/VideoS3'\n",
    "file_list = os.listdir(data_dir)\n",
    "image_paths = [] # 이미지 경로를 저장하는 변수\n",
    "stopline_yesno = [] # 이미지 각도를 저장하는 변수\n",
    "pattern = \"*.png\" # .png 확장자 가진 파일만 취급\n",
    "\n",
    "for filename in file_list:\n",
    "    if fnmatch.fnmatch(filename, pattern):\n",
    "        file_path = os.path.join(data_dir, filename)\n",
    "        try:\n",
    "            # 이미지 파일을 열어보려고 시도\n",
    "            with Image.open(file_path) as img:\n",
    "                # 파일이 성공적으로 열렸다면 리스트에 추가\n",
    "                image_paths.append(file_path)\n",
    "                if filename[12:15]=='180':\n",
    "                    stopline = 1\n",
    "                else:\n",
    "                    stopline = 0\n",
    "                stopline_yesno.append(stopline)\n",
    "        except:\n",
    "            # 파일 열기에 실패한 경우, 예외가 발생하고 해당 파일은 무시\n",
    "            print(f\"Failed to open {file_path}\")\n",
    "\n",
    "\n",
    "# 이후 과정은 동일하게 진행\n",
    "image_index = 20\n",
    "plt.imshow(Image.open(image_paths[image_index]))\n",
    "print(\"image_path: %s\" % image_paths[image_index])\n",
    "print(\"steering_Angle: %d\" % stopline_yesno[image_index])\n",
    "\n",
    "df = pd.DataFrame()\n",
    "df['ImagePath'] = image_paths\n",
    "df['Stopline'] = stopline_yesno"
   ]
  },
  {
   "cell_type": "markdown",
   "metadata": {},
   "source": [
    "- stop과 non-stop 데이터의 분포 확인 "
   ]
  },
  {
   "cell_type": "code",
   "execution_count": 17,
   "metadata": {},
   "outputs": [
    {
     "name": "stdout",
     "output_type": "stream",
     "text": [
      "Stopline\n",
      "1    1824\n",
      "0    1603\n",
      "Name: count, dtype: int64\n"
     ]
    }
   ],
   "source": [
    "# 데이터프레임 생성\n",
    "df = pd.DataFrame({\n",
    "    'ImagePath': image_paths,\n",
    "    'Stopline': stopline_yesno\n",
    "})\n",
    "\n",
    "# stopline 값에 따른 분포 확인\n",
    "distribution = df['Stopline'].value_counts()\n",
    "\n",
    "print(distribution)\n"
   ]
  },
  {
   "cell_type": "code",
   "execution_count": null,
   "metadata": {},
   "outputs": [],
   "source": []
  },
  {
   "cell_type": "markdown",
   "metadata": {},
   "source": [
    "# 5. 전처리 & 데이터 분리 & 모델 선언 & 모델 학습 & 평가 & 저장"
   ]
  },
  {
   "cell_type": "code",
   "execution_count": 18,
   "metadata": {},
   "outputs": [
    {
     "name": "stderr",
     "output_type": "stream",
     "text": [
      "C:\\Users\\dkgus\\AppData\\Local\\Temp\\ipykernel_10572\\2588008926.py:35: UserWarning: `input_shape` is undefined or non-square, or `rows` is not in [96, 128, 160, 192, 224]. Weights for input shape (224, 224) will be loaded as the default.\n",
      "  base_model = MobileNetV2(weights='imagenet', include_top=False, input_shape=(220, 70, 3))\n"
     ]
    },
    {
     "name": "stdout",
     "output_type": "stream",
     "text": [
      "Epoch 1/20\n"
     ]
    },
    {
     "name": "stderr",
     "output_type": "stream",
     "text": [
      "c:\\Users\\dkgus\\AppData\\Local\\Programs\\Python\\Python311\\Lib\\site-packages\\keras\\src\\trainers\\data_adapters\\py_dataset_adapter.py:121: UserWarning: Your `PyDataset` class should call `super().__init__(**kwargs)` in its constructor. `**kwargs` can include `workers`, `use_multiprocessing`, `max_queue_size`. Do not pass these arguments to `fit()`, as they will be ignored.\n",
      "  self._warn_if_super_not_called()\n"
     ]
    },
    {
     "name": "stdout",
     "output_type": "stream",
     "text": [
      "\u001b[1m85/85\u001b[0m \u001b[32m━━━━━━━━━━━━━━━━━━━━\u001b[0m\u001b[37m\u001b[0m \u001b[1m18s\u001b[0m 165ms/step - accuracy: 0.8801 - loss: 0.5319 - val_accuracy: 1.0000 - val_loss: 1.0913e-04\n",
      "Epoch 2/20\n",
      "\u001b[1m 1/85\u001b[0m \u001b[37m━━━━━━━━━━━━━━━━━━━━\u001b[0m \u001b[1m7s\u001b[0m 88ms/step - accuracy: 1.0000 - loss: 0.0030"
     ]
    },
    {
     "name": "stderr",
     "output_type": "stream",
     "text": [
      "c:\\Users\\dkgus\\AppData\\Local\\Programs\\Python\\Python311\\Lib\\contextlib.py:155: UserWarning: Your input ran out of data; interrupting training. Make sure that your dataset or generator can generate at least `steps_per_epoch * epochs` batches. You may need to use the `.repeat()` function when building your dataset.\n",
      "  self.gen.throw(typ, value, traceback)\n"
     ]
    },
    {
     "name": "stdout",
     "output_type": "stream",
     "text": [
      "\u001b[1m85/85\u001b[0m \u001b[32m━━━━━━━━━━━━━━━━━━━━\u001b[0m\u001b[37m\u001b[0m \u001b[1m2s\u001b[0m 22ms/step - accuracy: 1.0000 - loss: 0.0030 - val_accuracy: 1.0000 - val_loss: 9.4516e-05\n",
      "Epoch 3/20\n",
      "\u001b[1m85/85\u001b[0m \u001b[32m━━━━━━━━━━━━━━━━━━━━\u001b[0m\u001b[37m\u001b[0m \u001b[1m15s\u001b[0m 164ms/step - accuracy: 0.9920 - loss: 0.0195 - val_accuracy: 0.9971 - val_loss: 0.0077\n",
      "Epoch 4/20\n",
      "\u001b[1m85/85\u001b[0m \u001b[32m━━━━━━━━━━━━━━━━━━━━\u001b[0m\u001b[37m\u001b[0m \u001b[1m2s\u001b[0m 21ms/step - accuracy: 1.0000 - loss: 0.0010 - val_accuracy: 0.9971 - val_loss: 0.0098\n",
      "Epoch 5/20\n",
      "\u001b[1m85/85\u001b[0m \u001b[32m━━━━━━━━━━━━━━━━━━━━\u001b[0m\u001b[37m\u001b[0m \u001b[1m15s\u001b[0m 170ms/step - accuracy: 0.9889 - loss: 0.0360 - val_accuracy: 1.0000 - val_loss: 1.4324e-04\n",
      "Epoch 6/20\n",
      "\u001b[1m85/85\u001b[0m \u001b[32m━━━━━━━━━━━━━━━━━━━━\u001b[0m\u001b[37m\u001b[0m \u001b[1m2s\u001b[0m 22ms/step - accuracy: 1.0000 - loss: 5.3293e-04 - val_accuracy: 1.0000 - val_loss: 1.7219e-04\n",
      "Epoch 7/20\n",
      "\u001b[1m85/85\u001b[0m \u001b[32m━━━━━━━━━━━━━━━━━━━━\u001b[0m\u001b[37m\u001b[0m \u001b[1m16s\u001b[0m 176ms/step - accuracy: 0.9958 - loss: 0.0113 - val_accuracy: 1.0000 - val_loss: 6.0966e-05\n",
      "Epoch 8/20\n",
      "\u001b[1m85/85\u001b[0m \u001b[32m━━━━━━━━━━━━━━━━━━━━\u001b[0m\u001b[37m\u001b[0m \u001b[1m2s\u001b[0m 22ms/step - accuracy: 1.0000 - loss: 0.0102 - val_accuracy: 1.0000 - val_loss: 2.9162e-04\n",
      "Epoch 9/20\n",
      "\u001b[1m85/85\u001b[0m \u001b[32m━━━━━━━━━━━━━━━━━━━━\u001b[0m\u001b[37m\u001b[0m \u001b[1m16s\u001b[0m 186ms/step - accuracy: 0.9909 - loss: 0.0210 - val_accuracy: 0.9985 - val_loss: 0.0017\n",
      "Epoch 10/20\n",
      "\u001b[1m85/85\u001b[0m \u001b[32m━━━━━━━━━━━━━━━━━━━━\u001b[0m\u001b[37m\u001b[0m \u001b[1m2s\u001b[0m 23ms/step - accuracy: 0.9375 - loss: 0.1434 - val_accuracy: 0.9985 - val_loss: 0.0015\n",
      "Epoch 11/20\n",
      "\u001b[1m85/85\u001b[0m \u001b[32m━━━━━━━━━━━━━━━━━━━━\u001b[0m\u001b[37m\u001b[0m \u001b[1m20s\u001b[0m 228ms/step - accuracy: 0.9949 - loss: 0.0180 - val_accuracy: 1.0000 - val_loss: 7.9230e-05\n",
      "Epoch 12/20\n",
      "\u001b[1m85/85\u001b[0m \u001b[32m━━━━━━━━━━━━━━━━━━━━\u001b[0m\u001b[37m\u001b[0m \u001b[1m3s\u001b[0m 36ms/step - accuracy: 1.0000 - loss: 2.0754e-04 - val_accuracy: 1.0000 - val_loss: 7.7745e-05\n",
      "Epoch 13/20\n",
      "\u001b[1m85/85\u001b[0m \u001b[32m━━━━━━━━━━━━━━━━━━━━\u001b[0m\u001b[37m\u001b[0m \u001b[1m23s\u001b[0m 260ms/step - accuracy: 0.9985 - loss: 0.0047 - val_accuracy: 1.0000 - val_loss: 0.0012\n",
      "Epoch 14/20\n",
      "\u001b[1m85/85\u001b[0m \u001b[32m━━━━━━━━━━━━━━━━━━━━\u001b[0m\u001b[37m\u001b[0m \u001b[1m3s\u001b[0m 38ms/step - accuracy: 1.0000 - loss: 0.0020 - val_accuracy: 1.0000 - val_loss: 0.0013\n",
      "Epoch 15/20\n",
      "\u001b[1m85/85\u001b[0m \u001b[32m━━━━━━━━━━━━━━━━━━━━\u001b[0m\u001b[37m\u001b[0m \u001b[1m23s\u001b[0m 254ms/step - accuracy: 0.9972 - loss: 0.0055 - val_accuracy: 1.0000 - val_loss: 6.0416e-06\n",
      "Epoch 16/20\n",
      "\u001b[1m85/85\u001b[0m \u001b[32m━━━━━━━━━━━━━━━━━━━━\u001b[0m\u001b[37m\u001b[0m \u001b[1m3s\u001b[0m 36ms/step - accuracy: 1.0000 - loss: 0.0060 - val_accuracy: 1.0000 - val_loss: 6.8872e-06\n",
      "Epoch 17/20\n",
      "\u001b[1m85/85\u001b[0m \u001b[32m━━━━━━━━━━━━━━━━━━━━\u001b[0m\u001b[37m\u001b[0m \u001b[1m22s\u001b[0m 253ms/step - accuracy: 0.9995 - loss: 0.0030 - val_accuracy: 1.0000 - val_loss: 6.6161e-05\n",
      "Epoch 18/20\n",
      "\u001b[1m85/85\u001b[0m \u001b[32m━━━━━━━━━━━━━━━━━━━━\u001b[0m\u001b[37m\u001b[0m \u001b[1m3s\u001b[0m 36ms/step - accuracy: 1.0000 - loss: 0.0020 - val_accuracy: 1.0000 - val_loss: 3.8406e-05\n",
      "Epoch 19/20\n",
      "\u001b[1m85/85\u001b[0m \u001b[32m━━━━━━━━━━━━━━━━━━━━\u001b[0m\u001b[37m\u001b[0m \u001b[1m22s\u001b[0m 253ms/step - accuracy: 0.9995 - loss: 0.0030 - val_accuracy: 1.0000 - val_loss: 6.6702e-07\n",
      "Epoch 20/20\n",
      "\u001b[1m85/85\u001b[0m \u001b[32m━━━━━━━━━━━━━━━━━━━━\u001b[0m\u001b[37m\u001b[0m \u001b[1m3s\u001b[0m 36ms/step - accuracy: 1.0000 - loss: 5.5020e-06 - val_accuracy: 1.0000 - val_loss: 6.0901e-07\n",
      "\u001b[1m22/22\u001b[0m \u001b[32m━━━━━━━━━━━━━━━━━━━━\u001b[0m\u001b[37m\u001b[0m \u001b[1m3s\u001b[0m 143ms/step - accuracy: 1.0000 - loss: 1.9130e-07\n"
     ]
    },
    {
     "name": "stderr",
     "output_type": "stream",
     "text": [
      "WARNING:absl:You are saving your model as an HDF5 file via `model.save()` or `keras.saving.save_model(model)`. This file format is considered legacy. We recommend using instead the native Keras format, e.g. `model.save('my_model.keras')` or `keras.saving.save_model(model, 'my_model.keras')`. \n"
     ]
    },
    {
     "name": "stdout",
     "output_type": "stream",
     "text": [
      "Test Accuracy: 100.00%\n",
      "Model saved to stopline_detection_model.h5\n"
     ]
    }
   ],
   "source": [
    "import os\n",
    "import fnmatch\n",
    "from PIL import Image\n",
    "import numpy as np\n",
    "import pandas as pd\n",
    "import matplotlib.pyplot as plt\n",
    "from tensorflow.keras.applications import MobileNetV2\n",
    "from tensorflow.keras.preprocessing.image import img_to_array\n",
    "from tensorflow.keras.utils import to_categorical\n",
    "from tensorflow.keras.models import Model\n",
    "from tensorflow.keras.layers import Dense, GlobalAveragePooling2D\n",
    "from tensorflow.keras.optimizers import Adam\n",
    "from tensorflow.keras.preprocessing.image import ImageDataGenerator\n",
    "from sklearn.model_selection import train_test_split\n",
    "\n",
    "# 이미지 로딩 및 전처리\n",
    "def preprocess_image(image_path):\n",
    "    img = Image.open(image_path)\n",
    "    img = img.resize((70, 220))  # (width, height) 순서\n",
    "    img = img_to_array(img)\n",
    "    img /= 255.0  # Normalize the image\n",
    "    return img\n",
    "\n",
    "images = np.array([preprocess_image(path) for path in df['ImagePath']])\n",
    "labels = np.array(df['Stopline'])\n",
    "\n",
    "# 학습 및 테스트 데이터 분리\n",
    "X_train, X_test, y_train, y_test = train_test_split(images, labels, test_size=0.2, random_state=42)\n",
    "\n",
    "# 라벨 원-핫 인코딩\n",
    "y_train = to_categorical(y_train, num_classes=2)\n",
    "y_test = to_categorical(y_test, num_classes=2)\n",
    "\n",
    "# 모바일넷 모델 로드 및 수정\n",
    "base_model = MobileNetV2(weights='imagenet', include_top=False, input_shape=(220, 70, 3))\n",
    "x = base_model.output\n",
    "x = GlobalAveragePooling2D()(x)\n",
    "x = Dense(1024, activation='relu')(x)\n",
    "predictions = Dense(2, activation='softmax')(x)\n",
    "\n",
    "model = Model(inputs=base_model.input, outputs=predictions)\n",
    "\n",
    "# 기존 층을 학습하지 않도록 설정\n",
    "for layer in base_model.layers:\n",
    "    layer.trainable = False\n",
    "    \n",
    "\n",
    "# 모델 컴파일\n",
    "model.compile(optimizer=Adam(learning_rate=0.001), loss='categorical_crossentropy', metrics=['accuracy'])\n",
    "\n",
    "# 데이터 증강 설정\n",
    "datagen = ImageDataGenerator(\n",
    "    rotation_range=20,\n",
    "    width_shift_range=0.2,\n",
    "    height_shift_range=0.2,\n",
    "    horizontal_flip=True\n",
    ")\n",
    "\n",
    "# 모델 학습\n",
    "batch_size = 32\n",
    "epochs = 20\n",
    "\n",
    "model.fit(datagen.flow(X_train, y_train, batch_size=batch_size),\n",
    "          steps_per_epoch=len(X_train) // batch_size,\n",
    "          epochs=epochs,\n",
    "          validation_data=(X_test, y_test))\n",
    "\n",
    "# 모델 평가\n",
    "loss, accuracy = model.evaluate(X_test, y_test)\n",
    "print(f\"Test Accuracy: {accuracy * 100:.2f}%\")\n",
    "\n",
    "# 모델 저장\n",
    "model.save('./stopline_detection_model.h5')\n",
    "print(\"Model saved to stopline_detection_model.h5\")"
   ]
  },
  {
   "cell_type": "markdown",
   "metadata": {},
   "source": [
    "# 6. 데이터 예측 시각화"
   ]
  },
  {
   "cell_type": "code",
   "execution_count": 20,
   "metadata": {},
   "outputs": [
    {
     "name": "stderr",
     "output_type": "stream",
     "text": [
      "WARNING:absl:Compiled the loaded model, but the compiled metrics have yet to be built. `model.compile_metrics` will be empty until you train or evaluate the model.\n"
     ]
    },
    {
     "name": "stdout",
     "output_type": "stream",
     "text": [
      "\u001b[1m1/1\u001b[0m \u001b[32m━━━━━━━━━━━━━━━━━━━━\u001b[0m\u001b[37m\u001b[0m \u001b[1m1s\u001b[0m 790ms/step\n"
     ]
    },
    {
     "data": {
      "image/png": "[encoded data removed]",
      "text/plain": [
       "<Figure size 640x480 with 1 Axes>"
      ]
     },
     "metadata": {},
     "output_type": "display_data"
    },
    {
     "data": {
      "image/png": "[encoded data removed]",
      "text/plain": [
       "<Figure size 640x480 with 1 Axes>"
      ]
     },
     "metadata": {},
     "output_type": "display_data"
    },
    {
     "data": {
      "image/png": "[encoded data removed]",
      "text/plain": [
       "<Figure size 640x480 with 1 Axes>"
      ]
     },
     "metadata": {},
     "output_type": "display_data"
    },
    {
     "data": {
      "image/png": "[encoded data removed]",
      "text/plain": [
       "<Figure size 640x480 with 1 Axes>"
      ]
     },
     "metadata": {},
     "output_type": "display_data"
    }
   ],
   "source": [
    "import tensorflow as tf\n",
    "from PIL import Image\n",
    "import numpy as np\n",
    "import matplotlib.pyplot as plt\n",
    "\n",
    "# 모델 로드\n",
    "model = tf.keras.models.load_model('./stopline_detection_model.h5')\n",
    "\n",
    "# 예시 이미지 4개에 대한 실제 값과 예측값 보여주기\n",
    "example_indices = np.random.choice(len(df), 4, replace=False)\n",
    "example_images = [preprocess_image(df['ImagePath'].iloc[idx]) for idx in example_indices]\n",
    "example_images_array = np.array(example_images)\n",
    "example_labels = df['Stopline'].iloc[example_indices].values\n",
    "\n",
    "# 예측 수행\n",
    "predicted_labels = model.predict(example_images_array)\n",
    "\n",
    "# 실제 값과 예측값 출력\n",
    "for i in range(4):\n",
    "    plt.figure()\n",
    "    img = Image.open(df['ImagePath'].iloc[example_indices[i]])\n",
    "    img = img.resize((220, 70))  # Resize to match the model's input size\n",
    "    plt.imshow(img)\n",
    "    # 원-핫 인코딩된 예측값에서 가장 높은 확률을 가진 인덱스 선택\n",
    "    predicted_label = np.argmax(predicted_labels[i])\n",
    "    plt.title(f\"Actual: {example_labels[i]}, Predicted: {predicted_label}\")\n",
    "    plt.axis('off')\n",
    "    plt.show()\n"
   ]
  }
 ],
 "metadata": {
  "kernelspec": {
   "display_name": "Python 3",
   "language": "python",
   "name": "python3"
  },
  "language_info": {
   "codemirror_mode": {
    "name": "ipython",
    "version": 3
   },
   "file_extension": ".py",
   "mimetype": "text/x-python",
   "name": "python",
   "nbconvert_exporter": "python",
   "pygments_lexer": "ipython3",
   "version": "3.11.0"
  }
 },
 "nbformat": 4,
 "nbformat_minor": 2
}
